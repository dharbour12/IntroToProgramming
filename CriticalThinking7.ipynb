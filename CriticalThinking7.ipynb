{
 "cells": [
  {
   "cell_type": "code",
   "execution_count": 1,
   "id": "f22cfe89-2b19-4993-a7bd-762b44c0d492",
   "metadata": {},
   "outputs": [
    {
     "name": "stdin",
     "output_type": "stream",
     "text": [
      "Enter a course number:  csc103\n"
     ]
    },
    {
     "name": "stdout",
     "output_type": "stream",
     "text": [
      "Course: CSC103\n",
      "Room Number: 6755\n",
      "Instructor: Rich\n",
      "Meeting Time: 10:00 a.m.\n"
     ]
    }
   ],
   "source": [
    "# Dictionaries information\n",
    "room_numbers = {\n",
    "    \"CSC101\": \"3004\",\n",
    "    \"CSC102\": \"4501\",\n",
    "    \"CSC103\": \"6755\",\n",
    "    \"NET110\": \"1244\",\n",
    "    \"COM241\": \"1411\"\n",
    "}\n",
    "\n",
    "instructors = {\n",
    "    \"CSC101\": \"Haynes\",\n",
    "    \"CSC102\": \"Alvarado\",\n",
    "    \"CSC103\": \"Rich\",\n",
    "    \"NET110\": \"Burke\",\n",
    "    \"COM241\": \"Lee\"\n",
    "}\n",
    "\n",
    "meeting_times = {\n",
    "    \"CSC101\": \"8:00 a.m.\",\n",
    "    \"CSC102\": \"9:00 a.m.\",\n",
    "    \"CSC103\": \"10:00 a.m.\",\n",
    "    \"NET110\": \"11:00 a.m.\",\n",
    "    \"COM241\": \"1:00 p.m.\"\n",
    "}\n",
    "\n",
    "# User input\n",
    "course = input(\"Enter a course number: \").strip().upper()\n",
    "\n",
    "# Display information if course exists\n",
    "if course in room_numbers:\n",
    "    print(f\"Course: {course}\")\n",
    "    print(f\"Room Number: {room_numbers[course]}\")\n",
    "    print(f\"Instructor: {instructors[course]}\")\n",
    "    print(f\"Meeting Time: {meeting_times[course]}\")\n",
    "else:\n",
    "    print(\"Invalid Course Number\")"
   ]
  },
  {
   "cell_type": "code",
   "execution_count": null,
   "id": "b9fdecaf-b47c-4b31-9771-3ea55037e417",
   "metadata": {},
   "outputs": [],
   "source": []
  }
 ],
 "metadata": {
  "kernelspec": {
   "display_name": "Python [conda env:base] *",
   "language": "python",
   "name": "conda-base-py"
  },
  "language_info": {
   "codemirror_mode": {
    "name": "ipython",
    "version": 3
   },
   "file_extension": ".py",
   "mimetype": "text/x-python",
   "name": "python",
   "nbconvert_exporter": "python",
   "pygments_lexer": "ipython3",
   "version": "3.12.7"
  }
 },
 "nbformat": 4,
 "nbformat_minor": 5
}
