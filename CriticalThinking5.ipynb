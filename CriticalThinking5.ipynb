{
 "cells": [
  {
   "cell_type": "code",
   "execution_count": 2,
   "id": "b05bde18-341d-4047-87d5-2c37f64e8a52",
   "metadata": {},
   "outputs": [
    {
     "name": "stdin",
     "output_type": "stream",
     "text": [
      "Enter the number of years:  2\n"
     ]
    },
    {
     "name": "stdout",
     "output_type": "stream",
     "text": [
      "\n",
      "Year 1\n"
     ]
    },
    {
     "name": "stdin",
     "output_type": "stream",
     "text": [
      "Enter inches of rainfall for month 1:  10\n",
      "Enter inches of rainfall for month 2:  8\n",
      "Enter inches of rainfall for month 3:  6\n",
      "Enter inches of rainfall for month 4:  4\n",
      "Enter inches of rainfall for month 5:  4\n",
      "Enter inches of rainfall for month 6:  2\n",
      "Enter inches of rainfall for month 7:  2\n",
      "Enter inches of rainfall for month 8:  1\n",
      "Enter inches of rainfall for month 9:  6\n",
      "Enter inches of rainfall for month 10:  12\n",
      "Enter inches of rainfall for month 11:  12\n",
      "Enter inches of rainfall for month 12:  13\n"
     ]
    },
    {
     "name": "stdout",
     "output_type": "stream",
     "text": [
      "\n",
      "Year 2\n"
     ]
    },
    {
     "name": "stdin",
     "output_type": "stream",
     "text": [
      "Enter inches of rainfall for month 1:  9\n",
      "Enter inches of rainfall for month 2:  8\n",
      "Enter inches of rainfall for month 3:  5\n",
      "Enter inches of rainfall for month 4:  3\n",
      "Enter inches of rainfall for month 5:  2\n",
      "Enter inches of rainfall for month 6:  2\n",
      "Enter inches of rainfall for month 7:  4\n",
      "Enter inches of rainfall for month 8:  3\n",
      "Enter inches of rainfall for month 9:  2\n",
      "Enter inches of rainfall for month 10:  8\n",
      "Enter inches of rainfall for month 11:  9\n",
      "Enter inches of rainfall for month 12:  10\n"
     ]
    },
    {
     "name": "stdout",
     "output_type": "stream",
     "text": [
      "\n",
      "Rainfall Report\n",
      "Total months: 24\n",
      "Total inches of rainfall: 145.00\n",
      "Average rainfall per month: 6.04\n"
     ]
    }
   ],
   "source": [
    "## Program to calculate average rainfall over a period of years\n",
    "\n",
    "# Ask the user for the number of years\n",
    "years = int(input(\"Enter the number of years: \"))\n",
    "\n",
    "# Make variables for total rainfall and total months\n",
    "total_rainfall = 0.0\n",
    "total_months = 0\n",
    "\n",
    "# Outer loop - iterate once per year\n",
    "for year in range(1, years + 1):\n",
    "    print(f\"\\nYear {year}\")\n",
    "    \n",
    "    # Inner loop - iterate once per month (12 months)\n",
    "    for month in range(1, 13):\n",
    "        # Get rainfall for the month\n",
    "        rainfall = float(input(f\"Enter inches of rainfall for month {month}: \"))\n",
    "        total_rainfall += rainfall\n",
    "        total_months += 1\n",
    "\n",
    "# Calculate average rainfall\n",
    "average_rainfall = total_rainfall / total_months\n",
    "\n",
    "# Display results rounding to 2 decimal points\n",
    "print(\"\\nRainfall Report\")\n",
    "print(f\"Total months: {total_months}\")\n",
    "print(f\"Total inches of rainfall: {total_rainfall:.2f}\")\n",
    "print(f\"Average rainfall per month: {average_rainfall:.2f}\")"
   ]
  },
  {
   "cell_type": "code",
   "execution_count": 15,
   "id": "d92a39bc-dea5-43eb-9e83-dffdcc2e502a",
   "metadata": {},
   "outputs": [
    {
     "name": "stdin",
     "output_type": "stream",
     "text": [
      "Enter books purchased during the month:  100\n"
     ]
    },
    {
     "name": "stdout",
     "output_type": "stream",
     "text": [
      "You have earned 60 points this month!\n"
     ]
    }
   ],
   "source": [
    "# Calculate points earned\n",
    "\n",
    "# Create variable for books purchased and points earned\n",
    "books_purchased = int(input(\"Enter books purchased during the month: \"))\n",
    "points_earned = 0\n",
    "\n",
    "# Evaluate for points earned\n",
    "if books_purchased >= 8:\n",
    "    points_earned = 60\n",
    "elif books_purchased >= 6:\n",
    "    points_earned = 30\n",
    "elif books_purchased >= 4:\n",
    "    points_earned = 15\n",
    "elif books_purchased >= 2:\n",
    "    points_earned = 5\n",
    "else:\n",
    "    points_earned = 0\n",
    "\n",
    "# Display points\n",
    "print(f\"You have earned {points_earned} points this month!\")\n",
    "    "
   ]
  },
  {
   "cell_type": "code",
   "execution_count": null,
   "id": "0e5755e9-e5f9-4dc4-b122-f7b9a886ca93",
   "metadata": {},
   "outputs": [],
   "source": []
  }
 ],
 "metadata": {
  "kernelspec": {
   "display_name": "Python [conda env:base] *",
   "language": "python",
   "name": "conda-base-py"
  },
  "language_info": {
   "codemirror_mode": {
    "name": "ipython",
    "version": 3
   },
   "file_extension": ".py",
   "mimetype": "text/x-python",
   "name": "python",
   "nbconvert_exporter": "python",
   "pygments_lexer": "ipython3",
   "version": "3.12.7"
  }
 },
 "nbformat": 4,
 "nbformat_minor": 5
}
