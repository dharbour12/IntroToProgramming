{
 "cells": [
  {
   "cell_type": "code",
   "execution_count": null,
   "id": "41461b85-ddc5-4222-888c-853df22b8d7b",
   "metadata": {},
   "outputs": [],
   "source": [
    "# Define the ItemToPurchase class\n",
    "class ItemToPurchase:\n",
    "    def __init__(self, item_name=\"none\", item_price=0.0, item_quantity=0, item_description=\"none\"):\n",
    "        # Parameterized constructor with default values\n",
    "        self.item_name = item_name\n",
    "        self.item_price = item_price\n",
    "        self.item_quantity = item_quantity\n",
    "        self.item_description = item_description\n",
    "\n",
    "    def print_item_cost(self):\n",
    "        # Calculates and prints the total cost for this item\n",
    "        total_cost = self.item_price * self.item_quantity\n",
    "        print(f\"{self.item_name} {self.item_quantity} @ ${self.item_price:.2f} = ${total_cost:.2f}\")\n",
    "\n",
    "    def print_item_description(self):\n",
    "        print(f\"{self.item_name}: {self.item_description}\")\n"
   ]
  },
  {
   "cell_type": "code",
   "execution_count": 8,
   "id": "0395dca6-302a-48a4-b88b-118f5161ef06",
   "metadata": {},
   "outputs": [],
   "source": [
    "# Define the ShoppingCart class\n",
    "class ShoppingCart:\n",
    "    def __init__(self, customer_name=\"none\", current_date=\"January 1, 2020\"):\n",
    "        self.customer_name = customer_name\n",
    "        self.current_date = current_date\n",
    "        self.cart_items = []  # This will store ItemToPurchase objects\n",
    "\n",
    "    def add_item(self, item):\n",
    "        # item should be an instance of ItemToPurchase\n",
    "        self.cart_items.append(item)\n",
    "\n",
    "    def remove_item(self, item_name):\n",
    "        # Tries to remove item by name\n",
    "        found = False\n",
    "        for item in self.cart_items:\n",
    "            if item.item_name == item_name:\n",
    "                self.cart_items.remove(item)\n",
    "                found = True\n",
    "                break\n",
    "        if not found:\n",
    "            print(\"Item not found in cart. Nothing removed.\")\n",
    "\n",
    "    def modify_item(self, item_to_modify):\n",
    "        # Looks for item by name and updates it if found\n",
    "        found = False\n",
    "        for item in self.cart_items:\n",
    "            if item.item_name == item_to_modify.item_name:\n",
    "                found = True\n",
    "                if item_to_modify.item_description != \"none\":\n",
    "                    item.item_description = item_to_modify.item_description\n",
    "                if item_to_modify.item_price != 0:\n",
    "                    item.item_price = item_to_modify.item_price\n",
    "                if item_to_modify.item_quantity != 0:\n",
    "                    item.item_quantity = item_to_modify.item_quantity\n",
    "                break\n",
    "        if not found:\n",
    "            print(\"Item not found in cart. Nothing modified.\")\n",
    "\n",
    "    def get_num_items_in_cart(self):\n",
    "        total_quantity = 0\n",
    "        for item in self.cart_items:\n",
    "            total_quantity += item.item_quantity\n",
    "        return total_quantity\n",
    "\n",
    "    def get_cost_of_cart(self):\n",
    "        total_cost = 0\n",
    "        for item in self.cart_items:\n",
    "            total_cost += item.item_price * item.item_quantity\n",
    "        return total_cost\n",
    "\n",
    "    def print_total(self):\n",
    "        print(f\"{self.customer_name}'s Shopping Cart - {self.current_date}\")\n",
    "        print(f\"Number of Items: {self.get_num_items_in_cart()}\")\n",
    "\n",
    "        if not self.cart_items:\n",
    "            print(\"SHOPPING CART IS EMPTY\")\n",
    "        else:\n",
    "            for item in self.cart_items:\n",
    "                item.print_item_cost()\n",
    "            print(f\"\\nTotal: ${self.get_cost_of_cart():.0f}\")\n",
    "\n",
    "    def print_descriptions(self):\n",
    "        print(f\"{self.customer_name}'s Shopping Cart - {self.current_date}\")\n",
    "        print(\"Item Descriptions\")\n",
    "        for item in self.cart_items:\n",
    "            item.print_item_description()"
   ]
  },
  {
   "cell_type": "code",
   "execution_count": 9,
   "id": "ea5bfd71-f79c-4783-b454-33e8a77d5616",
   "metadata": {},
   "outputs": [],
   "source": [
    "def print_menu(cart):\n",
    "    menu_options = {\n",
    "        \"a\": \"Add item to cart\",\n",
    "        \"r\": \"Remove item from cart\",\n",
    "        \"c\": \"Change item quantity\",\n",
    "        \"i\": \"Output items' descriptions\",\n",
    "        \"o\": \"Output shopping cart\",\n",
    "        \"q\": \"Quit\"\n",
    "    }\n",
    "\n",
    "    choice = \"\"  # initialize empty choice\n",
    "\n",
    "    while choice != \"q\":\n",
    "        print(\"\\nMENU\")\n",
    "        for key, desc in menu_options.items():\n",
    "            print(f\"{key} - {desc}\")\n",
    "        \n",
    "        choice = input(\"Choose an option:\\n\").lower()\n",
    "\n",
    "        while choice not in menu_options:\n",
    "            choice = input(\"Invalid option. Choose a valid option:\\n\").lower()\n",
    "\n",
    "        if choice == \"q\":\n",
    "            break\n",
    "\n",
    "        elif choice == \"a\":\n",
    "            print(\"ADD ITEM TO CART\")\n",
    "            name = input(\"Enter the item name:\\n\")\n",
    "            description = input(\"Enter the item description:\\n\")\n",
    "            price = float(input(\"Enter the item price:\\n\"))\n",
    "            quantity = int(input(\"Enter the item quantity:\\n\"))\n",
    "            item = ItemToPurchase(name, price, quantity, description)\n",
    "            cart.add_item(item)\n",
    "\n",
    "        elif choice == \"r\":\n",
    "            print(\"REMOVE ITEM FROM CART\")\n",
    "            name = input(\"Enter name of item to remove:\\n\")\n",
    "            cart.remove_item(name)\n",
    "\n",
    "        elif choice == \"c\":\n",
    "            print(\"CHANGE ITEM INFORMATION\")\n",
    "            name = input(\"Enter the item name to modify:\\n\")\n",
    "\n",
    "            # Prompt for new values; use defaults if nothing entered\n",
    "            description = input(\"Enter the new description (or leave blank to skip):\\n\")\n",
    "            price_input = input(\"Enter the new price (or leave blank to skip):\\n\")\n",
    "            quantity_input = input(\"Enter the new quantity (or leave blank to skip):\\n\")\n",
    "\n",
    "            # Set fallback/defaults if fields are skipped\n",
    "            description = description if description else \"none\"\n",
    "            price = float(price_input) if price_input else 0.0\n",
    "            quantity = int(quantity_input) if quantity_input else 0\n",
    "\n",
    "            # Create a temp ItemToPurchase with just the new values\n",
    "            updated_item = ItemToPurchase(item_name=name, item_price=price, item_quantity=quantity, item_description=description)\n",
    "            cart.modify_item(updated_item)\n",
    "\n",
    "        elif choice == \"i\":\n",
    "            print(\"OUTPUT ITEMS' DESCRIPTIONS\")\n",
    "            cart.print_descriptions()\n",
    "\n",
    "        elif choice == \"o\":\n",
    "            print(\"OUTPUT SHOPPING CART\")\n",
    "            cart.print_total()\n",
    "\n",
    "def main():\n",
    "    customer_name = input(\"Enter customer's name:\\n\")\n",
    "    current_date = input(\"Enter today's date:\\n\")\n",
    "\n",
    "    print()\n",
    "    print(f\"Customer name: {customer_name}\")\n",
    "    print(f\"Today's date: {current_date}\\n\")\n",
    "\n",
    "    cart = ShoppingCart(customer_name, current_date)\n",
    "    print_menu(cart)"
   ]
  },
  {
   "cell_type": "code",
   "execution_count": null,
   "id": "8565d495-7ad3-4563-9ce1-419206a8cf48",
   "metadata": {},
   "outputs": [
    {
     "name": "stdout",
     "output_type": "stream",
     "text": [
      "Enter customer's name:\n",
      " Dayna Harbour\n",
      "Enter today's date:\n",
      " 20 July 2025\n"
     ]
    },
    {
     "name": "stdout",
     "output_type": "stream",
     "text": [
      "\n",
      "Customer name: Dayna Harbour\n",
      "Today's date: 20 July 2025\n",
      "\n",
      "\n",
      "MENU\n",
      "a - Add item to cart\n",
      "r - Remove item from cart\n",
      "c - Change item quantity\n",
      "i - Output items' descriptions\n",
      "o - Output shopping cart\n",
      "q - Quit\n"
     ]
    },
    {
     "name": "stdout",
     "output_type": "stream",
     "text": [
      "Choose an option:\n",
      " a\n"
     ]
    },
    {
     "name": "stdout",
     "output_type": "stream",
     "text": [
      "ADD ITEM TO CART\n"
     ]
    },
    {
     "name": "stdout",
     "output_type": "stream",
     "text": [
      "Enter the item name:\n",
      " Cereal\n",
      "Enter the item description:\n",
      " Froot Loops\n",
      "Enter the item price:\n",
      " 5.99\n",
      "Enter the item quantity:\n",
      " 3\n"
     ]
    },
    {
     "name": "stdout",
     "output_type": "stream",
     "text": [
      "\n",
      "MENU\n",
      "a - Add item to cart\n",
      "r - Remove item from cart\n",
      "c - Change item quantity\n",
      "i - Output items' descriptions\n",
      "o - Output shopping cart\n",
      "q - Quit\n"
     ]
    },
    {
     "name": "stdout",
     "output_type": "stream",
     "text": [
      "Choose an option:\n",
      " c\n"
     ]
    },
    {
     "name": "stdout",
     "output_type": "stream",
     "text": [
      "CHANGE ITEM INFORMATION\n"
     ]
    },
    {
     "name": "stdout",
     "output_type": "stream",
     "text": [
      "Enter the item name to modify:\n",
      " Cereal\n",
      "Enter the new description (or leave blank to skip):\n",
      " \n",
      "Enter the new price (or leave blank to skip):\n",
      " \n",
      "Enter the new quantity (or leave blank to skip):\n",
      " 5\n"
     ]
    },
    {
     "name": "stdout",
     "output_type": "stream",
     "text": [
      "\n",
      "MENU\n",
      "a - Add item to cart\n",
      "r - Remove item from cart\n",
      "c - Change item quantity\n",
      "i - Output items' descriptions\n",
      "o - Output shopping cart\n",
      "q - Quit\n"
     ]
    },
    {
     "name": "stdout",
     "output_type": "stream",
     "text": [
      "Choose an option:\n",
      " i\n"
     ]
    },
    {
     "name": "stdout",
     "output_type": "stream",
     "text": [
      "OUTPUT ITEMS' DESCRIPTIONS\n",
      "Dayna Harbour's Shopping Cart - 20 July 2025\n",
      "Item Descriptions\n",
      "Cereal: Froot Loops\n",
      "\n",
      "MENU\n",
      "a - Add item to cart\n",
      "r - Remove item from cart\n",
      "c - Change item quantity\n",
      "i - Output items' descriptions\n",
      "o - Output shopping cart\n",
      "q - Quit\n"
     ]
    },
    {
     "name": "stdout",
     "output_type": "stream",
     "text": [
      "Choose an option:\n",
      " o\n"
     ]
    },
    {
     "name": "stdout",
     "output_type": "stream",
     "text": [
      "OUTPUT SHOPPING CART\n",
      "Dayna Harbour's Shopping Cart - 20 July 2025\n",
      "Number of Items: 5\n",
      "Cereal 5 @ $5.99 = $29.95\n",
      "\n",
      "Total: $30\n",
      "\n",
      "MENU\n",
      "a - Add item to cart\n",
      "r - Remove item from cart\n",
      "c - Change item quantity\n",
      "i - Output items' descriptions\n",
      "o - Output shopping cart\n",
      "q - Quit\n"
     ]
    },
    {
     "name": "stdout",
     "output_type": "stream",
     "text": [
      "Choose an option:\n",
      " r\n"
     ]
    },
    {
     "name": "stdout",
     "output_type": "stream",
     "text": [
      "REMOVE ITEM FROM CART\n"
     ]
    },
    {
     "name": "stdout",
     "output_type": "stream",
     "text": [
      "Enter name of item to remove:\n",
      " Cereal\n"
     ]
    },
    {
     "name": "stdout",
     "output_type": "stream",
     "text": [
      "\n",
      "MENU\n",
      "a - Add item to cart\n",
      "r - Remove item from cart\n",
      "c - Change item quantity\n",
      "i - Output items' descriptions\n",
      "o - Output shopping cart\n",
      "q - Quit\n"
     ]
    },
    {
     "name": "stdout",
     "output_type": "stream",
     "text": [
      "Choose an option:\n",
      " o\n"
     ]
    },
    {
     "name": "stdout",
     "output_type": "stream",
     "text": [
      "OUTPUT SHOPPING CART\n",
      "Dayna Harbour's Shopping Cart - 20 July 2025\n",
      "Number of Items: 0\n",
      "SHOPPING CART IS EMPTY\n",
      "\n",
      "MENU\n",
      "a - Add item to cart\n",
      "r - Remove item from cart\n",
      "c - Change item quantity\n",
      "i - Output items' descriptions\n",
      "o - Output shopping cart\n",
      "q - Quit\n"
     ]
    }
   ],
   "source": [
    "main()"
   ]
  },
  {
   "cell_type": "code",
   "execution_count": null,
   "id": "95eae1b8-f63d-46bc-b628-425c475d5433",
   "metadata": {},
   "outputs": [],
   "source": []
  }
 ],
 "metadata": {
  "kernelspec": {
   "display_name": "Python [conda env:base] *",
   "language": "python",
   "name": "conda-base-py"
  },
  "language_info": {
   "codemirror_mode": {
    "name": "ipython",
    "version": 3
   },
   "file_extension": ".py",
   "mimetype": "text/x-python",
   "name": "python",
   "nbconvert_exporter": "python",
   "pygments_lexer": "ipython3",
   "version": "3.12.7"
  }
 },
 "nbformat": 4,
 "nbformat_minor": 5
}
