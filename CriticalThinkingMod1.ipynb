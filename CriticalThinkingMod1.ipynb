{
 "cells": [
  {
   "cell_type": "code",
   "execution_count": 1,
   "id": "600cab0c-7b1b-4078-8cec-2531b5172a08",
   "metadata": {},
   "outputs": [
    {
     "name": "stdout",
     "output_type": "stream",
     "text": [
      "Enter number 1:\n"
     ]
    },
    {
     "name": "stdin",
     "output_type": "stream",
     "text": [
      " 4\n"
     ]
    },
    {
     "name": "stdout",
     "output_type": "stream",
     "text": [
      "Enter number 2:\n"
     ]
    },
    {
     "name": "stdin",
     "output_type": "stream",
     "text": [
      " 5\n"
     ]
    },
    {
     "name": "stdout",
     "output_type": "stream",
     "text": [
      "The sum of entered numbers is 9\n",
      "The difference of the entered numbers is -1\n"
     ]
    }
   ],
   "source": [
    "# Ask User for input on 2 numbers\n",
    "print(\"Enter number 1:\")\n",
    "num1 = int(input())\n",
    "print(\"Enter number 2:\")\n",
    "num2 = int(input())\n",
    "\n",
    "# Perform addition of numbers\n",
    "numsum = num1 + num2\n",
    "print(\"The sum of entered numbers is\", numsum)\n",
    "\n",
    "# Perform subtraction of numbers\n",
    "numdifference = num1 - num2\n",
    "print(\"The difference of the entered numbers is\", numdifference)\n"
   ]
  },
  {
   "cell_type": "code",
   "execution_count": 3,
   "id": "9b152265-feaa-4d4b-ac83-e19af1a5670a",
   "metadata": {},
   "outputs": [
    {
     "name": "stdout",
     "output_type": "stream",
     "text": [
      "Enter number 1:\n"
     ]
    },
    {
     "name": "stdin",
     "output_type": "stream",
     "text": [
      " 4\n"
     ]
    },
    {
     "name": "stdout",
     "output_type": "stream",
     "text": [
      "Enter number 2:\n"
     ]
    },
    {
     "name": "stdin",
     "output_type": "stream",
     "text": [
      " 5\n"
     ]
    },
    {
     "name": "stdout",
     "output_type": "stream",
     "text": [
      "The product of entered numbers is 20\n",
      "The quotient of the entered numbers is 0.8\n"
     ]
    }
   ],
   "source": [
    "# Ask User for input on 2 numbers\n",
    "print(\"Enter number 1:\")\n",
    "num1 = int(input())\n",
    "print(\"Enter number 2:\")\n",
    "num2 = int(input())\n",
    "\n",
    "# Perform multiplication of numbers\n",
    "numproduct = num1 * num2\n",
    "print(\"The product of entered numbers is\", numproduct)\n",
    "\n",
    "# Perform division of numbers\n",
    "numquotient = num1 / num2\n",
    "print(\"The quotient of the entered numbers is\", numquotient)"
   ]
  },
  {
   "cell_type": "code",
   "execution_count": null,
   "id": "1f1640db-879b-4a7f-b60e-362655cb8c21",
   "metadata": {},
   "outputs": [],
   "source": []
  }
 ],
 "metadata": {
  "kernelspec": {
   "display_name": "Python [conda env:base] *",
   "language": "python",
   "name": "conda-base-py"
  },
  "language_info": {
   "codemirror_mode": {
    "name": "ipython",
    "version": 3
   },
   "file_extension": ".py",
   "mimetype": "text/x-python",
   "name": "python",
   "nbconvert_exporter": "python",
   "pygments_lexer": "ipython3",
   "version": "3.12.7"
  }
 },
 "nbformat": 4,
 "nbformat_minor": 5
}
