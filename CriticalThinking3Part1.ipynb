{
 "cells": [
  {
   "cell_type": "code",
   "execution_count": 9,
   "id": "e069c05a-0eca-4c98-80c4-7f84b70fe52d",
   "metadata": {},
   "outputs": [
    {
     "name": "stdout",
     "output_type": "stream",
     "text": [
      "Enter cost of food:\n"
     ]
    },
    {
     "name": "stdin",
     "output_type": "stream",
     "text": [
      " 8.99\n"
     ]
    },
    {
     "name": "stdout",
     "output_type": "stream",
     "text": [
      "Recommended 18% tip: $1.62\n",
      "Tax: $0.63\n",
      "Total bill: $11.24\n"
     ]
    }
   ],
   "source": [
    "# Critical Thinking 3 Part 1\n",
    "# Ask user to input price for meal\n",
    "\n",
    "print('Enter cost of food:')\n",
    "base_cost_of_food = float(input())\n",
    "\n",
    "# Calculate tip before taxes\n",
    "\n",
    "calculated_tip_amount = float(base_cost_of_food * 0.18)\n",
    "print('Recommended 18% tip: $' + format(calculated_tip_amount,'.2f'))\n",
    "\n",
    "# Calculate taxes on original amount\n",
    "\n",
    "calculated_tax = float(base_cost_of_food * 0.07)\n",
    "print('Tax: $' + format(calculated_tax, '.2f'))\n",
    "\n",
    "# Display total cost\n",
    "\n",
    "print('Total bill: $' + format(base_cost_of_food + calculated_tip_amount + calculated_tax, '.2f'))"
   ]
  },
  {
   "cell_type": "code",
   "execution_count": 8,
   "id": "fa1f9812-0c5a-4830-b0a6-68f5f36ed2bf",
   "metadata": {},
   "outputs": [
    {
     "name": "stdout",
     "output_type": "stream",
     "text": [
      "What is the current time in hours using 24-hour time?\n"
     ]
    },
    {
     "name": "stdin",
     "output_type": "stream",
     "text": [
      " 6\n"
     ]
    },
    {
     "name": "stdout",
     "output_type": "stream",
     "text": [
      "How many hours until your alarm?\n"
     ]
    },
    {
     "name": "stdin",
     "output_type": "stream",
     "text": [
      " 12\n"
     ]
    },
    {
     "name": "stdout",
     "output_type": "stream",
     "text": [
      "Your alarm will be at 18:00\n"
     ]
    }
   ],
   "source": [
    "# Critical Thinking 3 Part 2\n",
    "# Ask user for current time in hours\n",
    "\n",
    "print('What is the current time in hours using 24-hour time?')\n",
    "current_time = int(input())\n",
    "\n",
    "# Ask for hours until alarm\n",
    "\n",
    "print('How many hours until your alarm?')\n",
    "hours_until_alarm = int(input())\n",
    "\n",
    "# Calculate remainder\n",
    "\n",
    "alarm_time = (current_time + hours_until_alarm) % 24\n",
    "print('Your alarm will be at', (str(alarm_time) + ':00'))\n",
    "\n"
   ]
  },
  {
   "cell_type": "code",
   "execution_count": null,
   "id": "82d3caac-dade-4b96-91a3-af04a9a549ba",
   "metadata": {},
   "outputs": [],
   "source": []
  }
 ],
 "metadata": {
  "kernelspec": {
   "display_name": "Python [conda env:base] *",
   "language": "python",
   "name": "conda-base-py"
  },
  "language_info": {
   "codemirror_mode": {
    "name": "ipython",
    "version": 3
   },
   "file_extension": ".py",
   "mimetype": "text/x-python",
   "name": "python",
   "nbconvert_exporter": "python",
   "pygments_lexer": "ipython3",
   "version": "3.12.7"
  }
 },
 "nbformat": 4,
 "nbformat_minor": 5
}
