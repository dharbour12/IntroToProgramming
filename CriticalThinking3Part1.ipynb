{
 "cells": [
  {
   "cell_type": "code",
   "execution_count": 9,
   "id": "e069c05a-0eca-4c98-80c4-7f84b70fe52d",
   "metadata": {},
   "outputs": [
    {
     "name": "stdout",
     "output_type": "stream",
     "text": [
      "Enter cost of food:\n"
     ]
    },
    {
     "name": "stdin",
     "output_type": "stream",
     "text": [
      " 8.99\n"
     ]
    },
    {
     "name": "stdout",
     "output_type": "stream",
     "text": [
      "Recommended 18% tip: $1.62\n",
      "Tax: $0.63\n",
      "Total bill: $11.24\n"
     ]
    }
   ],
   "source": [
    "# Ask user to input price for meal\n",
    "\n",
    "print('Enter cost of food:')\n",
    "base_cost_of_food = float(input())\n",
    "\n",
    "# Calculate tip before taxes\n",
    "\n",
    "calculated_tip_amount = float(base_cost_of_food * 0.18)\n",
    "print('Recommended 18% tip: $' + format(calculated_tip_amount,'.2f'))\n",
    "\n",
    "# Calculate taxes on original amount\n",
    "\n",
    "calculated_tax = float(base_cost_of_food * 0.07)\n",
    "print('Tax: $' + format(calculated_tax, '.2f'))\n",
    "\n",
    "# Display total cost\n",
    "\n",
    "print('Total bill: $' + format(base_cost_of_food + calculated_tip_amount + calculated_tax, '.2f'))"
   ]
  },
  {
   "cell_type": "code",
   "execution_count": null,
   "id": "fa1f9812-0c5a-4830-b0a6-68f5f36ed2bf",
   "metadata": {},
   "outputs": [],
   "source": []
  }
 ],
 "metadata": {
  "kernelspec": {
   "display_name": "Python [conda env:base] *",
   "language": "python",
   "name": "conda-base-py"
  },
  "language_info": {
   "codemirror_mode": {
    "name": "ipython",
    "version": 3
   },
   "file_extension": ".py",
   "mimetype": "text/x-python",
   "name": "python",
   "nbconvert_exporter": "python",
   "pygments_lexer": "ipython3",
   "version": "3.12.7"
  }
 },
 "nbformat": 4,
 "nbformat_minor": 5
}
