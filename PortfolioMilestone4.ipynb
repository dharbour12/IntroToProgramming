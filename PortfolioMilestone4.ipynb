{
 "cells": [
  {
   "cell_type": "code",
   "execution_count": 1,
   "id": "41461b85-ddc5-4222-888c-853df22b8d7b",
   "metadata": {},
   "outputs": [
    {
     "name": "stdout",
     "output_type": "stream",
     "text": [
      "Item 1\n"
     ]
    },
    {
     "name": "stdin",
     "output_type": "stream",
     "text": [
      "Enter the item name:\n",
      " Chips\n",
      "Enter the item price:\n",
      " 2.49\n",
      "Enter the item quantity:\n",
      " 5\n"
     ]
    },
    {
     "name": "stdout",
     "output_type": "stream",
     "text": [
      "\n",
      "Item 2\n"
     ]
    },
    {
     "name": "stdin",
     "output_type": "stream",
     "text": [
      "Enter the item name:\n",
      " Soda\n",
      "Enter the item price:\n",
      " 1.49\n",
      "Enter the item quantity:\n",
      " 8\n"
     ]
    },
    {
     "name": "stdout",
     "output_type": "stream",
     "text": [
      "\n",
      "TOTAL COST\n",
      "Chips 5 @ $2 = $12\n",
      "Soda 8 @ $1 = $11\n",
      "Total: $24\n"
     ]
    }
   ],
   "source": [
    "# Define the ItemToPurchase class\n",
    "class ItemToPurchase:\n",
    "    def __init__(self):\n",
    "        # Default constructor initializes default values\n",
    "        self.item_name = \"none\"          # Item name as a string\n",
    "        self.item_price = 0.0            # Item price as a float\n",
    "        self.item_quantity = 0           # Item quantity as an integer\n",
    "\n",
    "    def print_item_cost(self):\n",
    "        # Calculates total cost and prints item cost details\n",
    "        total_cost = int(self.item_price * self.item_quantity)  # Calculate total cost (price * quantity)\n",
    "        # Print item name, quantity, price, and total cost in the specified format\n",
    "        print(f\"{self.item_name} {self.item_quantity} @ ${int(self.item_price)} = ${total_cost}\")\n",
    "\n",
    "\n",
    "def main():\n",
    "    # --- ITEM 1 ---\n",
    "    print(\"Item 1\")\n",
    "    item1 = ItemToPurchase()  # Create first item object\n",
    "\n",
    "    # Get item 1 details from user\n",
    "    item1.item_name = input(\"Enter the item name:\\n\")         # Get item name\n",
    "    item1.item_price = float(input(\"Enter the item price:\\n\")) # Get item price (convert to float)\n",
    "    item1.item_quantity = int(input(\"Enter the item quantity:\\n\")) # Get item quantity (convert to int)\n",
    "\n",
    "    print()  # Blank line for spacing\n",
    "\n",
    "    # --- ITEM 2 ---\n",
    "    print(\"Item 2\")\n",
    "    item2 = ItemToPurchase()  # Create second item object\n",
    "\n",
    "    # Get item 2 details from user\n",
    "    item2.item_name = input(\"Enter the item name:\\n\")         # Get item name\n",
    "    item2.item_price = float(input(\"Enter the item price:\\n\")) # Get item price (convert to float)\n",
    "    item2.item_quantity = int(input(\"Enter the item quantity:\\n\")) # Get item quantity (convert to int)\n",
    "\n",
    "    print()  # Blank line for spacing\n",
    "\n",
    "    # --- OUTPUT TOTAL COST ---\n",
    "    print(\"TOTAL COST\")\n",
    "\n",
    "    # Print cost details for item 1\n",
    "    item1.print_item_cost()\n",
    "\n",
    "    # Print cost details for item 2\n",
    "    item2.print_item_cost()\n",
    "\n",
    "    # Calculate and print total cost of both items\n",
    "    total = int(item1.item_price * item1.item_quantity + item2.item_price * item2.item_quantity)\n",
    "    print(f\"Total: ${total}\")\n",
    "\n",
    "\n",
    "# Only run main() if this file is being executed directly\n",
    "if __name__ == \"__main__\":\n",
    "    main()"
   ]
  },
  {
   "cell_type": "code",
   "execution_count": null,
   "id": "a7701532-cdaa-43c5-b667-1c8fcaca7823",
   "metadata": {},
   "outputs": [],
   "source": []
  }
 ],
 "metadata": {
  "kernelspec": {
   "display_name": "Python [conda env:base] *",
   "language": "python",
   "name": "conda-base-py"
  },
  "language_info": {
   "codemirror_mode": {
    "name": "ipython",
    "version": 3
   },
   "file_extension": ".py",
   "mimetype": "text/x-python",
   "name": "python",
   "nbconvert_exporter": "python",
   "pygments_lexer": "ipython3",
   "version": "3.12.7"
  }
 },
 "nbformat": 4,
 "nbformat_minor": 5
}
